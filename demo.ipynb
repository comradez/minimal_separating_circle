{
 "cells": [
  {
   "cell_type": "code",
   "execution_count": null,
   "metadata": {},
   "outputs": [],
   "source": [
    "import numpy as np\n",
    "import matplotlib.pyplot as plt\n",
    "from scipy.spatial import ConvexHull\n",
    "from farthest_voronoi_diagram import FarthestVoronoiDiagram\n",
    "from smallest_separating_circle import (\n",
    "    find_minimal_separating_circle,\n",
    "    find_maximal_surrounding_circle,\n",
    ")"
   ]
  },
  {
   "cell_type": "code",
   "execution_count": null,
   "metadata": {},
   "outputs": [],
   "source": [
    "# Toggle show/hide\n",
    "show_convex_hull = True\n",
    "show_farthese_voronoi = True\n",
    "show_surrounding_circle = True\n",
    "show_separating_circle = True\n",
    "\n",
    "# Demo data\n",
    "red_points = np.array([(2, 4), (4, 0), (4, 5.25), (4, 4), (4, 2), (6, 2)])\n",
    "blue_points = np.array(\n",
    "    [\n",
    "        (2.2, 2.5),\n",
    "        (-2.0, 2.0),\n",
    "        (0.0, 0.0),\n",
    "        (1.0, 1.0),\n",
    "        (-0.7, -1.0),\n",
    "        (-1.6, -2.0),\n",
    "        (-1.0, -4.0),\n",
    "    ]\n",
    ")"
   ]
  },
  {
   "cell_type": "code",
   "execution_count": null,
   "metadata": {},
   "outputs": [],
   "source": [
    "plt.axis(\"equal\")\n",
    "plt.gca().set_xlim(-4, 12)\n",
    "plt.gca().set_ylim(-4.5, 10)\n",
    "\n",
    "# Red/blue points\n",
    "plt.plot(red_points[:, 0], red_points[:, 1], \"ro\")\n",
    "plt.plot(blue_points[:, 0], blue_points[:, 1], \"bo\")\n",
    "\n",
    "if show_convex_hull:\n",
    "    red_hull = ConvexHull(red_points)\n",
    "    for simplex in red_hull.simplices:\n",
    "        plt.plot(red_points[simplex, 0], red_points[simplex, 1], \"r-\")\n",
    "\n",
    "if show_surrounding_circle:\n",
    "    surrounding_circle = find_maximal_surrounding_circle(red_points)\n",
    "    surrounding_circle_plt = plt.Circle(\n",
    "        surrounding_circle.center, surrounding_circle.radius, color=\"r\", fill=False\n",
    "    )\n",
    "    plt.gca().add_artist(surrounding_circle_plt)\n",
    "\n",
    "if show_farthese_voronoi:\n",
    "    fvd = FarthestVoronoiDiagram.from_points(red_points)\n",
    "    for edge in fvd.edges:\n",
    "        ei, ej = edge.origin_vert.point, edge.dest_vert.point\n",
    "\n",
    "        xs = [ei[0], ej[0]]\n",
    "        ys = [ei[1], ej[1]]\n",
    "        plt.plot(xs, ys, \"g-\")\n",
    "\n",
    "if show_separating_circle:\n",
    "    separating_circle = find_minimal_separating_circle(red_points, blue_points)\n",
    "    separating_circle_plt = plt.Circle(\n",
    "        separating_circle.center, separating_circle.radius, color=\"y\", fill=False\n",
    "    )\n",
    "    plt.gca().add_artist(separating_circle_plt)\n",
    "\n",
    "plt.show()"
   ]
  }
 ],
 "metadata": {
  "kernelspec": {
   "display_name": "cs235",
   "language": "python",
   "name": "python3"
  },
  "language_info": {
   "codemirror_mode": {
    "name": "ipython",
    "version": 3
   },
   "file_extension": ".py",
   "mimetype": "text/x-python",
   "name": "python",
   "nbconvert_exporter": "python",
   "pygments_lexer": "ipython3",
   "version": "3.12.1"
  }
 },
 "nbformat": 4,
 "nbformat_minor": 2
}
